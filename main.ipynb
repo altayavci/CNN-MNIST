{
 "cells": [
  {
   "cell_type": "code",
   "execution_count": 130,
   "metadata": {
    "colab": {
     "base_uri": "https://localhost:8080/"
    },
    "executionInfo": {
     "elapsed": 11,
     "status": "ok",
     "timestamp": 1669468121889,
     "user": {
      "displayName": "Altay Avcı",
      "userId": "02106897995285211757"
     },
     "user_tz": -180
    },
    "id": "lLN7O_JNUanS",
    "outputId": "0cd634ec-235d-4216-f93d-b93e9685a003"
   },
   "outputs": [
    {
     "name": "stdout",
     "output_type": "stream",
     "text": [
      "[Errno 2] No such file or directory: 'drive/MyDrive/Colab Notebooks/DL-NN'\n",
      "/Users/altayavci/Documents/DataScience/DL-NN/sentdex\n"
     ]
    }
   ],
   "source": [
    "%cd drive/MyDrive/Colab\\ Notebooks/DL-NN"
   ]
  },
  {
   "cell_type": "code",
   "execution_count": 131,
   "metadata": {
    "colab": {
     "base_uri": "https://localhost:8080/"
    },
    "executionInfo": {
     "elapsed": 430,
     "status": "ok",
     "timestamp": 1669385839655,
     "user": {
      "displayName": "Altay Avcı",
      "userId": "02106897995285211757"
     },
     "user_tz": -180
    },
    "id": "vn1-mP1hUvjH",
    "outputId": "3f7afb51-0bd7-486f-9a16-cc762d7a5039"
   },
   "outputs": [
    {
     "name": "stdout",
     "output_type": "stream",
     "text": [
      "\u001b[34mMNIST\u001b[m\u001b[m             intro.ipynb       net_flatten.ipynb utils.ipynb\n",
      "\u001b[34mPetImages\u001b[m\u001b[m         model.log         training_data.npy\n"
     ]
    }
   ],
   "source": [
    "!ls"
   ]
  },
  {
   "cell_type": "markdown",
   "metadata": {},
   "source": [
    "**TRAIN-DATASET-TETS DİYE AYIRMAN LAZIM**"
   ]
  },
  {
   "cell_type": "markdown",
   "metadata": {
    "id": "7KGM2pNyU2AG"
   },
   "source": [
    "**Part1: _Introduction_**"
   ]
  },
  {
   "cell_type": "code",
   "execution_count": 132,
   "metadata": {
    "id": "Nw6n4zxOslFC"
   },
   "outputs": [],
   "source": [
    "import torch"
   ]
  },
  {
   "cell_type": "code",
   "execution_count": 133,
   "metadata": {
    "id": "TMO_MHa-eGPQ"
   },
   "outputs": [],
   "source": [
    "x=torch.Tensor([5,3])\n",
    "y=torch.Tensor([2,1])\n",
    "z=torch.zeros([2,5])\n",
    "g=torch.rand([2,5])\n",
    "#torch ekosisteminde tensörler, arrayleri temsil ediyor\n",
    "#zaten tensor dediğin şeyde matrisin uzaydaki hali \n",
    "#zeros ve rand numpy ile aynı "
   ]
  },
  {
   "cell_type": "code",
   "execution_count": 134,
   "metadata": {
    "colab": {
     "base_uri": "https://localhost:8080/"
    },
    "executionInfo": {
     "elapsed": 3,
     "status": "ok",
     "timestamp": 1669385849619,
     "user": {
      "displayName": "Altay Avcı",
      "userId": "02106897995285211757"
     },
     "user_tz": -180
    },
    "id": "vurmiQLRgutz",
    "outputId": "74530136-f689-4ff9-ad74-51e5fce1d74e"
   },
   "outputs": [
    {
     "data": {
      "text/plain": [
       "tensor([[0.1605, 0.5646, 0.6143, 0.8712, 0.4297, 0.0878, 0.0370, 0.6119, 0.0484,\n",
       "         0.4299]])"
      ]
     },
     "execution_count": 134,
     "metadata": {},
     "output_type": "execute_result"
    }
   ],
   "source": [
    "g.view([1,10])\n",
    "g.reshape(1,-1)\n",
    "#flatlemek için için view(),reshape() ve flatten()"
   ]
  },
  {
   "cell_type": "markdown",
   "metadata": {
    "id": "etnuCxSusral"
   },
   "source": [
    "**Part2: _Data Preperation with MNIST_**"
   ]
  },
  {
   "cell_type": "code",
   "execution_count": 135,
   "metadata": {
    "id": "To4phYKxhQU9"
   },
   "outputs": [],
   "source": [
    "import torchvision\n",
    "from torchvision import transforms,datasets"
   ]
  },
  {
   "cell_type": "code",
   "execution_count": 136,
   "metadata": {
    "id": "B70djb-ssf6A"
   },
   "outputs": [],
   "source": [
    "train=datasets.MNIST('',train=True,download=True,\n",
    "                     transform=transforms.Compose([transforms.ToTensor()]))\n",
    "#''==path aslında,localde olsun istedik ondan boş string yolladık\n",
    "test=datasets.MNIST('',train=False,download=True,\n",
    "                     transform=transforms.Compose([transforms.ToTensor()]))"
   ]
  },
  {
   "cell_type": "code",
   "execution_count": 137,
   "metadata": {
    "id": "9D5IAA0duJ7X"
   },
   "outputs": [],
   "source": [
    "trainset=torch.utils.data.DataLoader(train,batch_size=10,shuffle=True)\n",
    "testset=torch.utils.data.DataLoader(test,batch_size=10,shuffle=True)\n",
    "#trainset ve testset generator olarak geliyor "
   ]
  },
  {
   "cell_type": "code",
   "execution_count": 138,
   "metadata": {
    "colab": {
     "base_uri": "https://localhost:8080/"
    },
    "executionInfo": {
     "elapsed": 6,
     "status": "ok",
     "timestamp": 1669385862842,
     "user": {
      "displayName": "Altay Avcı",
      "userId": "02106897995285211757"
     },
     "user_tz": -180
    },
    "id": "q7W9jr9guhtO",
    "outputId": "8a1b9344-98f2-4a85-e864-17dec74c2078"
   },
   "outputs": [
    {
     "name": "stdout",
     "output_type": "stream",
     "text": [
      "[tensor([[[[0., 0., 0.,  ..., 0., 0., 0.],\n",
      "          [0., 0., 0.,  ..., 0., 0., 0.],\n",
      "          [0., 0., 0.,  ..., 0., 0., 0.],\n",
      "          ...,\n",
      "          [0., 0., 0.,  ..., 0., 0., 0.],\n",
      "          [0., 0., 0.,  ..., 0., 0., 0.],\n",
      "          [0., 0., 0.,  ..., 0., 0., 0.]]],\n",
      "\n",
      "\n",
      "        [[[0., 0., 0.,  ..., 0., 0., 0.],\n",
      "          [0., 0., 0.,  ..., 0., 0., 0.],\n",
      "          [0., 0., 0.,  ..., 0., 0., 0.],\n",
      "          ...,\n",
      "          [0., 0., 0.,  ..., 0., 0., 0.],\n",
      "          [0., 0., 0.,  ..., 0., 0., 0.],\n",
      "          [0., 0., 0.,  ..., 0., 0., 0.]]],\n",
      "\n",
      "\n",
      "        [[[0., 0., 0.,  ..., 0., 0., 0.],\n",
      "          [0., 0., 0.,  ..., 0., 0., 0.],\n",
      "          [0., 0., 0.,  ..., 0., 0., 0.],\n",
      "          ...,\n",
      "          [0., 0., 0.,  ..., 0., 0., 0.],\n",
      "          [0., 0., 0.,  ..., 0., 0., 0.],\n",
      "          [0., 0., 0.,  ..., 0., 0., 0.]]],\n",
      "\n",
      "\n",
      "        ...,\n",
      "\n",
      "\n",
      "        [[[0., 0., 0.,  ..., 0., 0., 0.],\n",
      "          [0., 0., 0.,  ..., 0., 0., 0.],\n",
      "          [0., 0., 0.,  ..., 0., 0., 0.],\n",
      "          ...,\n",
      "          [0., 0., 0.,  ..., 0., 0., 0.],\n",
      "          [0., 0., 0.,  ..., 0., 0., 0.],\n",
      "          [0., 0., 0.,  ..., 0., 0., 0.]]],\n",
      "\n",
      "\n",
      "        [[[0., 0., 0.,  ..., 0., 0., 0.],\n",
      "          [0., 0., 0.,  ..., 0., 0., 0.],\n",
      "          [0., 0., 0.,  ..., 0., 0., 0.],\n",
      "          ...,\n",
      "          [0., 0., 0.,  ..., 0., 0., 0.],\n",
      "          [0., 0., 0.,  ..., 0., 0., 0.],\n",
      "          [0., 0., 0.,  ..., 0., 0., 0.]]],\n",
      "\n",
      "\n",
      "        [[[0., 0., 0.,  ..., 0., 0., 0.],\n",
      "          [0., 0., 0.,  ..., 0., 0., 0.],\n",
      "          [0., 0., 0.,  ..., 0., 0., 0.],\n",
      "          ...,\n",
      "          [0., 0., 0.,  ..., 0., 0., 0.],\n",
      "          [0., 0., 0.,  ..., 0., 0., 0.],\n",
      "          [0., 0., 0.,  ..., 0., 0., 0.]]]]), tensor([0, 1, 3, 9, 6, 4, 8, 4, 7, 9])]\n"
     ]
    }
   ],
   "source": [
    "for data in trainset:\n",
    "    print(data)\n",
    "    break\n",
    "#batch_size=10 dediğimiz için bir iterasyonda 10 adet tensor olacaktır."
   ]
  },
  {
   "cell_type": "code",
   "execution_count": 139,
   "metadata": {
    "id": "xcgGHkeGu--T"
   },
   "outputs": [],
   "source": [
    "x,y=data[0][0],data[1][0]\n",
    "#y=tensor[0] olacak yani 9, x de 9un tensoru olacak"
   ]
  },
  {
   "cell_type": "code",
   "execution_count": 140,
   "metadata": {
    "id": "r33ZiYqxu-u_"
   },
   "outputs": [],
   "source": [
    "import matplotlib.pyplot as plt "
   ]
  },
  {
   "cell_type": "code",
   "execution_count": 141,
   "metadata": {
    "colab": {
     "base_uri": "https://localhost:8080/"
    },
    "executionInfo": {
     "elapsed": 6,
     "status": "ok",
     "timestamp": 1669385869162,
     "user": {
      "displayName": "Altay Avcı",
      "userId": "02106897995285211757"
     },
     "user_tz": -180
    },
    "id": "lCqA1R6Kw_NH",
    "outputId": "68808c12-57cb-476c-90dc-8de0aebac622"
   },
   "outputs": [
    {
     "data": {
      "text/plain": [
       "torch.Size([1, 28, 28])"
      ]
     },
     "execution_count": 141,
     "metadata": {},
     "output_type": "execute_result"
    }
   ],
   "source": [
    "x.shape #bir grid oluşturuyor : 1row, 1 x-y column, bir x-z column"
   ]
  },
  {
   "cell_type": "code",
   "execution_count": 142,
   "metadata": {
    "colab": {
     "base_uri": "https://localhost:8080/",
     "height": 283
    },
    "executionInfo": {
     "elapsed": 745,
     "status": "ok",
     "timestamp": 1669385871333,
     "user": {
      "displayName": "Altay Avcı",
      "userId": "02106897995285211757"
     },
     "user_tz": -180
    },
    "id": "MGNdZv-jxIGT",
    "outputId": "0996a2e5-14bc-4994-f480-25f77536c9b6"
   },
   "outputs": [
    {
     "data": {
      "text/plain": [
       "(<matplotlib.image.AxesImage at 0x7fd89c1828e0>, tensor(0))"
      ]
     },
     "execution_count": 142,
     "metadata": {},
     "output_type": "execute_result"
    },
    {
     "data": {
      "image/png": "[encoded data removed]",
      "text/plain": [
       "<Figure size 432x288 with 1 Axes>"
      ]
     },
     "metadata": {
      "needs_background": "light"
     },
     "output_type": "display_data"
    }
   ],
   "source": [
    "plt.imshow(x.view(28,28)),data[1][0]"
   ]
  },
  {
   "cell_type": "code",
   "execution_count": 143,
   "metadata": {
    "colab": {
     "base_uri": "https://localhost:8080/",
     "height": 283
    },
    "executionInfo": {
     "elapsed": 5,
     "status": "ok",
     "timestamp": 1669385873644,
     "user": {
      "displayName": "Altay Avcı",
      "userId": "02106897995285211757"
     },
     "user_tz": -180
    },
    "id": "I4gFvlAt2SMh",
    "outputId": "7673bf00-f0e4-48b6-e1a1-22d0f7f0c083"
   },
   "outputs": [
    {
     "data": {
      "text/plain": [
       "(<matplotlib.image.AxesImage at 0x7fd87aa36310>, tensor(1))"
      ]
     },
     "execution_count": 143,
     "metadata": {},
     "output_type": "execute_result"
    },
    {
     "data": {
      "image/png": "[encoded data removed]",
      "text/plain": [
       "<Figure size 432x288 with 1 Axes>"
      ]
     },
     "metadata": {
      "needs_background": "light"
     },
     "output_type": "display_data"
    }
   ],
   "source": [
    "plt.imshow(data[0][1].view(28,28)),data[1][1]"
   ]
  },
  {
   "cell_type": "code",
   "execution_count": 144,
   "metadata": {
    "colab": {
     "base_uri": "https://localhost:8080/"
    },
    "executionInfo": {
     "elapsed": 5644,
     "status": "ok",
     "timestamp": 1669385881333,
     "user": {
      "displayName": "Altay Avcı",
      "userId": "02106897995285211757"
     },
     "user_tz": -180
    },
    "id": "YPmUxmkmxrCv",
    "outputId": "ff2ab1a1-93ef-4f48-e901-ef9fa00b7ffc"
   },
   "outputs": [
    {
     "name": "stdout",
     "output_type": "stream",
     "text": [
      "{0: 5923, 1: 6742, 2: 5958, 3: 6131, 4: 5842, 5: 5421, 6: 5918, 7: 6265, 8: 5851, 9: 5949}\n"
     ]
    }
   ],
   "source": [
    "total=0\n",
    "counterDict={0:0,1:0,2:0,3:0,4:0,5:0,6:0,7:0,8:0,9:0}\n",
    "\n",
    "for data in trainset :\n",
    "    xs,ys=data\n",
    "    for y in ys :\n",
    "        counterDict[int(y)]+=1\n",
    "        total+=1\n",
    "\n",
    "print(counterDict)\n",
    "#bu işlemi hangi rakam ne kadar var diye yaptık"
   ]
  },
  {
   "cell_type": "code",
   "execution_count": 145,
   "metadata": {
    "colab": {
     "base_uri": "https://localhost:8080/"
    },
    "executionInfo": {
     "elapsed": 324,
     "status": "ok",
     "timestamp": 1669385883407,
     "user": {
      "displayName": "Altay Avcı",
      "userId": "02106897995285211757"
     },
     "user_tz": -180
    },
    "id": "EusKNBTWPqhe",
    "outputId": "b7dac2c1-d1a9-4280-c754-49ea9981310b"
   },
   "outputs": [
    {
     "data": {
      "text/plain": [
       "60000"
      ]
     },
     "execution_count": 145,
     "metadata": {},
     "output_type": "execute_result"
    }
   ],
   "source": [
    "total"
   ]
  },
  {
   "cell_type": "code",
   "execution_count": 146,
   "metadata": {
    "colab": {
     "base_uri": "https://localhost:8080/"
    },
    "executionInfo": {
     "elapsed": 1,
     "status": "ok",
     "timestamp": 1669385885129,
     "user": {
      "displayName": "Altay Avcı",
      "userId": "02106897995285211757"
     },
     "user_tz": -180
    },
    "id": "aOVE4MoZy_9t",
    "outputId": "1646fef1-13ed-4603-8477-ce3e858f7273"
   },
   "outputs": [
    {
     "name": "stdout",
     "output_type": "stream",
     "text": [
      "0:9.871666666666666\n",
      "1:11.236666666666666\n",
      "2:9.93\n",
      "3:10.218333333333334\n",
      "4:9.736666666666666\n",
      "5:9.035\n",
      "6:9.863333333333333\n",
      "7:10.441666666666666\n",
      "8:9.751666666666667\n",
      "9:9.915000000000001\n"
     ]
    }
   ],
   "source": [
    "for i in counterDict:\n",
    "      print(f'{i}:{counterDict[i]/total*100}')\n",
    "#burda da verisetindeki dağılımı görmek için yaptık"
   ]
  },
  {
   "cell_type": "code",
   "execution_count": 147,
   "metadata": {
    "colab": {
     "base_uri": "https://localhost:8080/",
     "height": 285
    },
    "executionInfo": {
     "elapsed": 8,
     "status": "ok",
     "timestamp": 1669385887815,
     "user": {
      "displayName": "Altay Avcı",
      "userId": "02106897995285211757"
     },
     "user_tz": -180
    },
    "id": "d2bdtg1mz7Nn",
    "outputId": "420f882a-8304-476f-83fa-b7403fb75fe9"
   },
   "outputs": [
    {
     "data": {
      "text/plain": [
       "<BarContainer object of 10 artists>"
      ]
     },
     "execution_count": 147,
     "metadata": {},
     "output_type": "execute_result"
    },
    {
     "data": {
      "image/png": "[encoded data removed]",
      "text/plain": [
       "<Figure size 864x432 with 1 Axes>"
      ]
     },
     "metadata": {
      "needs_background": "light"
     },
     "output_type": "display_data"
    }
   ],
   "source": [
    "plt.figure(figsize=(12,6))\n",
    "plt.bar(counterDict.keys(),counterDict.values())"
   ]
  },
  {
   "cell_type": "markdown",
   "metadata": {
    "id": "6ou7pwkI2J1V"
   },
   "source": [
    "**Part3: _Building Neural Network_**"
   ]
  },
  {
   "cell_type": "code",
   "execution_count": 148,
   "metadata": {
    "id": "LBtUy-jt0EiN"
   },
   "outputs": [],
   "source": [
    "import torch.nn as nn\n",
    "import torch.nn.functional as F\n",
    "#torch.nn OOP, functional da fonksiyonel=>parametre ile çalışır "
   ]
  },
  {
   "cell_type": "code",
   "execution_count": 149,
   "metadata": {
    "colab": {
     "base_uri": "https://localhost:8080/"
    },
    "executionInfo": {
     "elapsed": 328,
     "status": "ok",
     "timestamp": 1669385948659,
     "user": {
      "displayName": "Altay Avcı",
      "userId": "02106897995285211757"
     },
     "user_tz": -180
    },
    "id": "AtFr2CxV4Cjk",
    "outputId": "e9eea8c7-bb23-4bfb-e574-1882869ed1f6"
   },
   "outputs": [
    {
     "name": "stdout",
     "output_type": "stream",
     "text": [
      "Net(\n",
      "  (fc1): Linear(in_features=784, out_features=64, bias=True)\n",
      "  (fc2): Linear(in_features=64, out_features=64, bias=True)\n",
      "  (fc3): Linear(in_features=64, out_features=64, bias=True)\n",
      "  (fc4): Linear(in_features=64, out_features=10, bias=True)\n",
      ")\n"
     ]
    }
   ],
   "source": [
    "class Net(nn.Module):\n",
    "\n",
    "    def __init__(self):\n",
    "        super().__init__() #nn.Module'ü inherit ettik\n",
    "        self.fc1=nn.Linear(28*28,64) #input layer\n",
    "        #fully-connected nn \n",
    "        #28*28 olmasının sebebi de elimizdeki görüntülerin boyutu\n",
    "        #Linear nn yarattık, conv olsa conv derdik \n",
    "        self.fc2=nn.Linear(64,64) #hidden-layer , inputu fc1'outputu olmalı\n",
    "        self.fc3=nn.Linear(64,64) #hidden-layer\n",
    "        self.fc4=nn.Linear(64,10) #output-layer, output=10 olmasının sebebi verisetinde 10 classımızın olması \n",
    "\n",
    "    def forward(self,x): #feed-forward\n",
    "        x=F.relu(self.fc1(x)) #activation function relu \n",
    "        x=F.relu(self.fc2(x))\n",
    "        x=F.relu(self.fc3(x)) \n",
    "        x=self.fc4(x)\n",
    "\n",
    "        return F.log_softmax(x,dim=1) #output-layerda sofmax kullandık,output layerdaki probabiltic sonuclar sebebiyle\n",
    "        #dim==axis, dim=1 : row-vise\n",
    "    \n",
    "net=Net()\n",
    "print(net)\n"
   ]
  },
  {
   "cell_type": "code",
   "execution_count": 150,
   "metadata": {
    "id": "IlGKDosuDt3-"
   },
   "outputs": [],
   "source": [
    "X=torch.rand((28,28))\n",
    "X=X.view(-1,28*28) #-1'i vermemizin reshape(-1,1) mantıgı aslında "
   ]
  },
  {
   "cell_type": "code",
   "execution_count": 151,
   "metadata": {
    "id": "cuUMGuHEEVoq"
   },
   "outputs": [],
   "source": [
    "output=net(X)"
   ]
  },
  {
   "cell_type": "code",
   "execution_count": 152,
   "metadata": {
    "colab": {
     "base_uri": "https://localhost:8080/"
    },
    "executionInfo": {
     "elapsed": 524,
     "status": "ok",
     "timestamp": 1669385957193,
     "user": {
      "displayName": "Altay Avcı",
      "userId": "02106897995285211757"
     },
     "user_tz": -180
    },
    "id": "5XhZq8ZGEjO_",
    "outputId": "08bef23e-5e7c-4104-fa42-b2aaf41c390e"
   },
   "outputs": [
    {
     "data": {
      "text/plain": [
       "tensor([[-2.3360, -2.3416, -2.3532, -2.3655, -2.4304, -2.2914, -2.0920, -2.4016,\n",
       "         -2.1940, -2.2680]], grad_fn=<LogSoftmaxBackward0>)"
      ]
     },
     "execution_count": 152,
     "metadata": {},
     "output_type": "execute_result"
    }
   ],
   "source": [
    "output"
   ]
  },
  {
   "cell_type": "markdown",
   "metadata": {
    "id": "X3Uevf3sF8y8"
   },
   "source": [
    "**Part4: _Training Model_**"
   ]
  },
  {
   "cell_type": "code",
   "execution_count": 153,
   "metadata": {
    "id": "vIvqRLjoEp5e"
   },
   "outputs": [],
   "source": [
    "import torch.optim as optim"
   ]
  },
  {
   "cell_type": "code",
   "execution_count": 154,
   "metadata": {
    "colab": {
     "base_uri": "https://localhost:8080/"
    },
    "executionInfo": {
     "elapsed": 61144,
     "status": "ok",
     "timestamp": 1669386023205,
     "user": {
      "displayName": "Altay Avcı",
      "userId": "02106897995285211757"
     },
     "user_tz": -180
    },
    "id": "v-dIE26pGgRH",
    "outputId": "148a2303-e78f-4809-b7e3-ae55c209be4f"
   },
   "outputs": [
    {
     "name": "stdout",
     "output_type": "stream",
     "text": [
      "tensor(0.0105, grad_fn=<NllLossBackward0>)\n",
      "tensor(0.1589, grad_fn=<NllLossBackward0>)\n",
      "tensor(0.0157, grad_fn=<NllLossBackward0>)\n"
     ]
    }
   ],
   "source": [
    "optimizer=optim.Adam(net.parameters(),lr=0.001)\n",
    "#net.parameters() transfer-learning'te kullanılır,adjustable\n",
    "epochs=3\n",
    "for epoch in range(epochs):\n",
    "    net.train()\n",
    "    for data in trainset:\n",
    "        X,y=data\n",
    "        #data is a batch of the features and labels \n",
    "\n",
    "        net.zero_grad()\n",
    "        #nn'e datayı vermeden önce bunu yapp !!\n",
    "        #memory yi iyileştiriyor,gradientleri sıfırlıyor\n",
    "\n",
    "        output=net(X.view(-1,28*28))\n",
    "        loss=F.nll_loss(output,y) \n",
    "        #output ve y skaler sayı olup vektör olmadıgından nll_loss kullan \n",
    "        #the negative log likelihood loss , yerine cross entropy de kullanılabilir\n",
    "\n",
    "        loss.backward()\n",
    "        #back propagation \n",
    "\n",
    "        optimizer.step()\n",
    "    print(loss)\n",
    "    \n"
   ]
  },
  {
   "cell_type": "code",
   "execution_count": 155,
   "metadata": {
    "colab": {
     "base_uri": "https://localhost:8080/"
    },
    "executionInfo": {
     "elapsed": 9014,
     "status": "ok",
     "timestamp": 1669386041352,
     "user": {
      "displayName": "Altay Avcı",
      "userId": "02106897995285211757"
     },
     "user_tz": -180
    },
    "id": "58Fnt7U2LR0F",
    "outputId": "960315ab-e62c-4285-a708-86843115aeff"
   },
   "outputs": [
    {
     "name": "stdout",
     "output_type": "stream",
     "text": [
      "Accuracy : 0.978\n"
     ]
    }
   ],
   "source": [
    "correct=0\n",
    "total=0\n",
    "\n",
    "net.eval()\n",
    "with torch.no_grad(): #gradientlere bakmadan \n",
    "    for data in trainset:\n",
    "        X,y=data\n",
    "        output=net(X.view(-1,28*28))\n",
    "        for idx,i in enumerate(output):\n",
    "            if torch.argmax(i)==y[idx]:\n",
    "            #output-layerdaki max arguman , y[idx]'e eşitse doğru iş yapılmış \n",
    "                correct+=1\n",
    "            total+=1\n",
    "\n",
    "print(f'Accuracy : {round(correct/total,3)}')"
   ]
  },
  {
   "cell_type": "code",
   "execution_count": 156,
   "metadata": {
    "colab": {
     "base_uri": "https://localhost:8080/"
    },
    "executionInfo": {
     "elapsed": 319,
     "status": "ok",
     "timestamp": 1669386046941,
     "user": {
      "displayName": "Altay Avcı",
      "userId": "02106897995285211757"
     },
     "user_tz": -180
    },
    "id": "ut_hFia_SZSi",
    "outputId": "2c1507ba-149b-48ca-fd3f-5a9b0a91d9aa"
   },
   "outputs": [
    {
     "data": {
      "text/plain": [
       "torch.Size([1, 10])"
      ]
     },
     "execution_count": 156,
     "metadata": {},
     "output_type": "execute_result"
    }
   ],
   "source": [
    "net(X[0].view(-1,28*28)).shape #row matris"
   ]
  },
  {
   "cell_type": "code",
   "execution_count": 159,
   "metadata": {
    "colab": {
     "base_uri": "https://localhost:8080/"
    },
    "executionInfo": {
     "elapsed": 3,
     "status": "ok",
     "timestamp": 1669386050915,
     "user": {
      "displayName": "Altay Avcı",
      "userId": "02106897995285211757"
     },
     "user_tz": -180
    },
    "id": "nxScvRMkQ409",
    "outputId": "0544412c-7baf-4779-ebe0-0b6504d75f74"
   },
   "outputs": [
    {
     "data": {
      "text/plain": [
       "tensor([[-1.2177e+01, -2.2377e+01, -2.1796e+01, -2.1766e+01, -1.4412e+01,\n",
       "         -1.5381e+01, -5.9604e-06, -2.4709e+01, -1.6464e+01, -2.5646e+01]],\n",
       "       grad_fn=<LogSoftmaxBackward0>)"
      ]
     },
     "execution_count": 159,
     "metadata": {},
     "output_type": "execute_result"
    }
   ],
   "source": [
    "net(X[0].view(-1,28*28)) #burdaki en büyük argüman -1.1264e-03 , 6. indeks"
   ]
  },
  {
   "cell_type": "code",
   "execution_count": 160,
   "metadata": {
    "colab": {
     "base_uri": "https://localhost:8080/"
    },
    "executionInfo": {
     "elapsed": 348,
     "status": "ok",
     "timestamp": 1669386053505,
     "user": {
      "displayName": "Altay Avcı",
      "userId": "02106897995285211757"
     },
     "user_tz": -180
    },
    "id": "V9_cOytfQqVp",
    "outputId": "e51109ba-88df-4550-dab8-49f487a93267"
   },
   "outputs": [
    {
     "data": {
      "text/plain": [
       "tensor(6)"
      ]
     },
     "execution_count": 160,
     "metadata": {},
     "output_type": "execute_result"
    }
   ],
   "source": [
    "torch.argmax(net(X[0].view(-1,28*28)))"
   ]
  },
  {
   "cell_type": "code",
   "execution_count": 162,
   "metadata": {
    "colab": {
     "base_uri": "https://localhost:8080/",
     "height": 1000
    },
    "executionInfo": {
     "elapsed": 1063,
     "status": "ok",
     "timestamp": 1669386059806,
     "user": {
      "displayName": "Altay Avcı",
      "userId": "02106897995285211757"
     },
     "user_tz": -180
    },
    "id": "5DpKj8bsN4ZX",
    "outputId": "6e257a3c-d2a6-4e0c-af71-bb38676737cc"
   },
   "outputs": [
    {
     "data": {
      "image/png": "[encoded data removed]",
      "text/plain": [
       "<Figure size 432x288 with 1 Axes>"
      ]
     },
     "metadata": {
      "needs_background": "light"
     },
     "output_type": "display_data"
    },
    {
     "name": "stdout",
     "output_type": "stream",
     "text": [
      "predict:6\n"
     ]
    },
    {
     "data": {
      "image/png": "[encoded data removed]",
      "text/plain": [
       "<Figure size 432x288 with 1 Axes>"
      ]
     },
     "metadata": {
      "needs_background": "light"
     },
     "output_type": "display_data"
    },
    {
     "name": "stdout",
     "output_type": "stream",
     "text": [
      "predict:2\n"
     ]
    },
    {
     "data": {
      "image/png": "[encoded data removed]",
      "text/plain": [
       "<Figure size 432x288 with 1 Axes>"
      ]
     },
     "metadata": {
      "needs_background": "light"
     },
     "output_type": "display_data"
    },
    {
     "name": "stdout",
     "output_type": "stream",
     "text": [
      "predict:6\n"
     ]
    },
    {
     "data": {
      "image/png": "[encoded data removed]",
      "text/plain": [
       "<Figure size 432x288 with 1 Axes>"
      ]
     },
     "metadata": {
      "needs_background": "light"
     },
     "output_type": "display_data"
    },
    {
     "name": "stdout",
     "output_type": "stream",
     "text": [
      "predict:7\n"
     ]
    },
    {
     "data": {
      "image/png": "[encoded data removed]",
      "text/plain": [
       "<Figure size 432x288 with 1 Axes>"
      ]
     },
     "metadata": {
      "needs_background": "light"
     },
     "output_type": "display_data"
    },
    {
     "name": "stdout",
     "output_type": "stream",
     "text": [
      "predict:1\n"
     ]
    },
    {
     "data": {
      "image/png": "[encoded data removed]",
      "text/plain": [
       "<Figure size 432x288 with 1 Axes>"
      ]
     },
     "metadata": {
      "needs_background": "light"
     },
     "output_type": "display_data"
    },
    {
     "name": "stdout",
     "output_type": "stream",
     "text": [
      "predict:0\n"
     ]
    },
    {
     "data": {
      "image/png": "[encoded data removed]",
      "text/plain": [
       "<Figure size 432x288 with 1 Axes>"
      ]
     },
     "metadata": {
      "needs_background": "light"
     },
     "output_type": "display_data"
    },
    {
     "name": "stdout",
     "output_type": "stream",
     "text": [
      "predict:3\n"
     ]
    },
    {
     "data": {
      "image/png": "[encoded data removed]",
      "text/plain": [
       "<Figure size 432x288 with 1 Axes>"
      ]
     },
     "metadata": {
      "needs_background": "light"
     },
     "output_type": "display_data"
    },
    {
     "name": "stdout",
     "output_type": "stream",
     "text": [
      "predict:9\n"
     ]
    },
    {
     "data": {
      "image/png": "[encoded data removed]",
      "text/plain": [
       "<Figure size 432x288 with 1 Axes>"
      ]
     },
     "metadata": {
      "needs_background": "light"
     },
     "output_type": "display_data"
    },
    {
     "name": "stdout",
     "output_type": "stream",
     "text": [
      "predict:9\n"
     ]
    }
   ],
   "source": [
    "for i in range(9):\n",
    "    #not : X bünyesinde 10 tensor barındırıyor\n",
    "    plt.imshow(X[i].view(28,28))\n",
    "    plt.show()\n",
    "    print(f'predict:{torch.argmax(net(X[i].view(-1,28*28)))}')\n",
    "    #data'nın X[i] batch'indaki 28*28 tensoru,\n",
    "    #eğitilmiş nn, torch objesinin argmax() methodu ile görüntüdeki sayıyı tahmin edip söylüyor\n",
    "    #net(X)'ten çıkan \n"
   ]
  },
  {
   "cell_type": "markdown",
   "metadata": {
    "id": "01SucySeS5jG"
   },
   "source": [
    "**Part5: _Convnet Intro_**"
   ]
  },
  {
   "cell_type": "code",
   "execution_count": 163,
   "metadata": {
    "id": "XC_aA_IvOCfX"
   },
   "outputs": [],
   "source": [
    "import os \n",
    "import cv2 \n",
    "import numpy as np\n",
    "from tqdm.notebook import tqdm"
   ]
  },
  {
   "cell_type": "code",
   "execution_count": 164,
   "metadata": {
    "id": "fcXCAo0LS5Jz"
   },
   "outputs": [],
   "source": [
    "REBUILD_DATA=True"
   ]
  },
  {
   "cell_type": "code",
   "execution_count": 165,
   "metadata": {
    "colab": {
     "base_uri": "https://localhost:8080/",
     "height": 365
    },
    "executionInfo": {
     "elapsed": 608,
     "status": "error",
     "timestamp": 1669390766946,
     "user": {
      "displayName": "Altay Avcı",
      "userId": "02106897995285211757"
     },
     "user_tz": -180
    },
    "id": "D_VyIJ4XTNAd",
    "outputId": "cc7c1521-e9ea-4405-f56c-f15c74b0987c"
   },
   "outputs": [
    {
     "name": "stdout",
     "output_type": "stream",
     "text": [
      "PetImages/Cat\n"
     ]
    },
    {
     "data": {
      "application/vnd.jupyter.widget-view+json": {
       "model_id": "c9281b52caff4c73bffc35ed3b359478",
       "version_major": 2,
       "version_minor": 0
      },
      "text/plain": [
       "  0%|          | 0/12501 [00:00<?, ?it/s]"
      ]
     },
     "metadata": {},
     "output_type": "display_data"
    },
    {
     "name": "stderr",
     "output_type": "stream",
     "text": [
      "Corrupt JPEG data: 214 extraneous bytes before marker 0xd9\n",
      "Corrupt JPEG data: 1153 extraneous bytes before marker 0xd9\n",
      "Corrupt JPEG data: 99 extraneous bytes before marker 0xd9\n",
      "Corrupt JPEG data: 128 extraneous bytes before marker 0xd9\n",
      "Corrupt JPEG data: 239 extraneous bytes before marker 0xd9\n"
     ]
    },
    {
     "name": "stdout",
     "output_type": "stream",
     "text": [
      "PetImages/Dog\n"
     ]
    },
    {
     "data": {
      "application/vnd.jupyter.widget-view+json": {
       "model_id": "85aba8c2fb664d50a777c1ba7bd80d99",
       "version_major": 2,
       "version_minor": 0
      },
      "text/plain": [
       "  0%|          | 0/12501 [00:00<?, ?it/s]"
      ]
     },
     "metadata": {},
     "output_type": "display_data"
    },
    {
     "name": "stderr",
     "output_type": "stream",
     "text": [
      "Corrupt JPEG data: 65 extraneous bytes before marker 0xd9\n",
      "Corrupt JPEG data: 226 extraneous bytes before marker 0xd9\n",
      "Corrupt JPEG data: 162 extraneous bytes before marker 0xd9\n",
      "Warning: unknown JFIF revision number 0.00\n",
      "Corrupt JPEG data: 2230 extraneous bytes before marker 0xd9\n",
      "Corrupt JPEG data: 254 extraneous bytes before marker 0xd9\n",
      "Corrupt JPEG data: 399 extraneous bytes before marker 0xd9\n",
      "Corrupt JPEG data: 1403 extraneous bytes before marker 0xd9\n"
     ]
    },
    {
     "name": "stdout",
     "output_type": "stream",
     "text": [
      "Cats : 12476\n",
      "Cats : 12470\n"
     ]
    }
   ],
   "source": [
    "class DogsVSCats():\n",
    "\n",
    "    IMG_SIZE=50\n",
    "    CATS='PetImages/Cat'\n",
    "    DOGS='PetImages/Dog'\n",
    "    LABELS={CATS :0,DOGS:1} \n",
    "    #CATS ve DOGS'ta görüntüler olacak \n",
    "    trainingData=[]\n",
    "    catCount,dogCount=0,0\n",
    "\n",
    "    def makeTrainingData(self):\n",
    "        for label in self.LABELS:\n",
    "            print(label)\n",
    "            #label burda \n",
    "            for f in tqdm(os.listdir(label)): \n",
    "\n",
    "                try :\n",
    "                      #tdqm progress bar \n",
    "                      #os.listdir()'de dosyanın içinde ne var onu söyler, \n",
    "                      #label=CATS olursa CATS'ın içindeki görüntü f'e atanır \n",
    "\n",
    "                    path=os.path.join(label,f)\n",
    "                    #join() ,iki farklı path'i birleştirip tek path oluşturur\n",
    "                    #örn: label='Users/Desktop',f='bla.txt' =>Users/Desktop/bla.txt \n",
    "\n",
    "                    img=cv2.imread(path,cv2.IMREAD_GRAYSCALE)\n",
    "                    #yukarıda tanımlanan path'ten okuyacak, gri şekilde 2 boyutlu\n",
    "                    #renk tanımlanmak istenirse üçüncü boyut olarak girilmeli \n",
    "                    #gray_scale, nn'i de küçültüyor \n",
    "        \n",
    "                    img=cv2.resize(img,(self.IMG_SIZE,self.IMG_SIZE))\n",
    "                    self.trainingData.append([np.array(img),np.eye(2)[self.LABELS[label]]])\n",
    "                    #np.eye(2) : 2x2 birim matris\n",
    "                    #self.LABELS[label] : 0 veya 1 i vericek\n",
    "                    #np.eye(2)[0] : [1 0] ,np.eye(2)[1] : [0 1] olucak \n",
    "\n",
    "                    if label==self.CATS:\n",
    "                        self.catCount+=1\n",
    "                    elif label==self.DOGS:\n",
    "                        self.dogCount+=1 \n",
    "                    #köpek ve kedilerin sayısının birbirlerine eşit olması lazım, homojen dağılım\n",
    "                except Exception as e :\n",
    "                        pass \n",
    "\n",
    "        np.random.shuffle(self.trainingData)  \n",
    "        np.save('training_data.npy',self.trainingData)\n",
    "        print(f'Cats : {self.catCount}')\n",
    "        print(f'Cats : {self.dogCount}')\n",
    "\n",
    "\n",
    "if REBUILD_DATA:\n",
    "    \n",
    "    dogsvscats=DogsVSCats()\n",
    "    dogsvscats.makeTrainingData()\n",
    "\n"
   ]
  },
  {
   "cell_type": "code",
   "execution_count": 166,
   "metadata": {},
   "outputs": [],
   "source": [
    "import numpy as np"
   ]
  },
  {
   "cell_type": "code",
   "execution_count": 167,
   "metadata": {
    "colab": {
     "base_uri": "https://localhost:8080/",
     "height": 312
    },
    "executionInfo": {
     "elapsed": 466,
     "status": "error",
     "timestamp": 1669390994251,
     "user": {
      "displayName": "Altay Avcı",
      "userId": "02106897995285211757"
     },
     "user_tz": -180
    },
    "id": "bEgw1ZLha9-6",
    "outputId": "58339b6b-918b-4dc2-937f-f7fb7cd93f28"
   },
   "outputs": [
    {
     "name": "stdout",
     "output_type": "stream",
     "text": [
      "24946\n"
     ]
    }
   ],
   "source": [
    "training_data=np.load('training_data.npy',allow_pickle=True)\n",
    "print(len(training_data))"
   ]
  },
  {
   "cell_type": "code",
   "execution_count": 168,
   "metadata": {
    "id": "tlIBbLXodPgn"
   },
   "outputs": [],
   "source": [
    "import matplotlib.pyplot as plt"
   ]
  },
  {
   "cell_type": "code",
   "execution_count": 169,
   "metadata": {},
   "outputs": [
    {
     "data": {
      "text/plain": [
       "array([0., 1.])"
      ]
     },
     "execution_count": 169,
     "metadata": {},
     "output_type": "execute_result"
    }
   ],
   "source": [
    "training_data[1][1] #köpek 1"
   ]
  },
  {
   "cell_type": "code",
   "execution_count": 170,
   "metadata": {
    "colab": {
     "base_uri": "https://localhost:8080/",
     "height": 187
    },
    "executionInfo": {
     "elapsed": 695,
     "status": "error",
     "timestamp": 1669391086834,
     "user": {
      "displayName": "Altay Avcı",
      "userId": "02106897995285211757"
     },
     "user_tz": -180
    },
    "id": "8PDjFFZXdToW",
    "outputId": "0f004d59-8148-41b4-f777-af31109b630a"
   },
   "outputs": [
    {
     "data": {
      "image/png": "[encoded data removed]",
      "text/plain": [
       "<Figure size 432x288 with 1 Axes>"
      ]
     },
     "metadata": {
      "needs_background": "light"
     },
     "output_type": "display_data"
    }
   ],
   "source": [
    "plt.imshow(training_data[1][0],cmap='gray') ##nn'in gördüğü görüntü\n",
    "plt.show()"
   ]
  },
  {
   "cell_type": "code",
   "execution_count": 171,
   "metadata": {},
   "outputs": [
    {
     "data": {
      "text/plain": [
       "array([1., 0.])"
      ]
     },
     "execution_count": 171,
     "metadata": {},
     "output_type": "execute_result"
    }
   ],
   "source": [
    "training_data[10][1] #kedi 0"
   ]
  },
  {
   "cell_type": "code",
   "execution_count": 172,
   "metadata": {},
   "outputs": [
    {
     "data": {
      "image/png": "[encoded data removed]",
      "text/plain": [
       "<Figure size 432x288 with 1 Axes>"
      ]
     },
     "metadata": {
      "needs_background": "light"
     },
     "output_type": "display_data"
    }
   ],
   "source": [
    "plt.imshow(training_data[10][0],cmap='gray') ##nn'in gördüğü görüntü\n",
    "plt.show()"
   ]
  },
  {
   "cell_type": "markdown",
   "metadata": {
    "id": "KmDPae_mfeTg"
   },
   "source": [
    "**Part6: _Training_**"
   ]
  },
  {
   "cell_type": "code",
   "execution_count": 173,
   "metadata": {
    "executionInfo": {
     "elapsed": 3,
     "status": "ok",
     "timestamp": 1669468558175,
     "user": {
      "displayName": "Altay Avcı",
      "userId": "02106897995285211757"
     },
     "user_tz": -180
    },
    "id": "p0cRniupfjXb"
   },
   "outputs": [],
   "source": [
    "import torch \n",
    "import torch.nn as nn \n",
    "import torch.nn.functional as F"
   ]
  },
  {
   "cell_type": "code",
   "execution_count": 200,
   "metadata": {
    "id": "6w3lxZRnFI2I"
   },
   "outputs": [],
   "source": [
    "class Net(nn.Module): #Dropout ekle \n",
    "    def __init__(self):\n",
    "        super().__init__()\n",
    "        self.conv1=nn.Conv2d(1,32,5)\n",
    "        #2 boyutlu, 32 conv. featurlı ,5x5 kernel yani windowlu ilk layer\n",
    "        self.conv2=nn.Conv2d(32,64,5)\n",
    "        self.conv3=nn.Conv2d(64,128,5)\n",
    "        \n",
    "        x=torch.randn(50,50).view(-1,1,50,50)\n",
    "        #50x50 tensor formu , 1'de conv1'den gelen 1 \n",
    "        \n",
    "        self.to_linear=None\n",
    "        self.convs(x)\n",
    "        \n",
    "        self.fc1=nn.Linear(self.to_linear,512) #input bilinmiyor ,output 512\n",
    "        self.fc2=nn.Linear(512,2) #input, bir önceki fully-connected layerın outputu, outputu ise class sayısı\n",
    "        \n",
    "        #fc1'deki inputu ilk başta bilemeyiz bu yüzden :\n",
    "        #ilk başta random data verip convlardan çıkan outputu tespit etmeliyiz\n",
    "        #çıkan outputu sonrasında fc1'e girmeliyiz(self.to_linear)\n",
    "        \n",
    "    def convs(self,x):\n",
    "        x=F.max_pool2d(F.relu(self.conv1(x)),(2,2))\n",
    "        x=F.max_pool2d(F.relu(self.conv2(x)),(2,2))\n",
    "        x=F.max_pool2d(F.relu(self.conv3(x)),(2,2))\n",
    "        \n",
    "        #print(x[0].shape)\n",
    "        if self.to_linear is None :\n",
    "            self.to_linear=x[0].shape[0]*x[0].shape[1]*x[0].shape[2]\n",
    "            #shape i öğrenmek için \n",
    "            \n",
    "        return x \n",
    "    \n",
    "    def forward(self,x):\n",
    "        x=self.convs(x)\n",
    "        x=x.view(-1,self.to_linear)\n",
    "        #to_linear ile input shape'ini öğrendik, şimdi de flatten yaptık \n",
    "        x=F.relu(self.fc1(x))\n",
    "        x=self.fc2(x)\n",
    "        \n",
    "        return F.softmax(x,dim=1) \n",
    "        \n",
    "    \n",
    "net=Net()   "
   ]
  },
  {
   "cell_type": "code",
   "execution_count": 175,
   "metadata": {},
   "outputs": [],
   "source": [
    "import torch.optim as optim\n",
    "from tqdm.notebook import tqdm"
   ]
  },
  {
   "cell_type": "code",
   "execution_count": 176,
   "metadata": {},
   "outputs": [
    {
     "name": "stdout",
     "output_type": "stream",
     "text": [
      "2494\n"
     ]
    }
   ],
   "source": [
    "X=torch.Tensor([i[0] for i in training_data]).view(-1,50,50)\n",
    "X=X/255.0 \n",
    "#normalize ediyoruz 255 olmasının sebebi RGB formatı\n",
    "y=np.array([i[1] for i in training_data])\n",
    "y=torch.Tensor(y)\n",
    "VAL_PCT=0.1\n",
    "val_size=int(len(X)*VAL_PCT)\n",
    "print(val_size)\n",
    "#validation test size "
   ]
  },
  {
   "cell_type": "code",
   "execution_count": 177,
   "metadata": {},
   "outputs": [
    {
     "name": "stdout",
     "output_type": "stream",
     "text": [
      "22452\n",
      "2494\n"
     ]
    }
   ],
   "source": [
    "train_X=X[:-val_size]\n",
    "train_y=y[:-val_size]\n",
    "\n",
    "test_X=X[-val_size:]\n",
    "test_y=y[-val_size:]\n",
    "\n",
    "print(len(train_X))\n",
    "print(len(test_X))"
   ]
  },
  {
   "cell_type": "markdown",
   "metadata": {},
   "source": [
    "**Part7: _Run on GPU_**"
   ]
  },
  {
   "cell_type": "code",
   "execution_count": 178,
   "metadata": {},
   "outputs": [],
   "source": [
    "import torch "
   ]
  },
  {
   "cell_type": "code",
   "execution_count": 179,
   "metadata": {},
   "outputs": [
    {
     "data": {
      "text/plain": [
       "False"
      ]
     },
     "execution_count": 179,
     "metadata": {},
     "output_type": "execute_result"
    }
   ],
   "source": [
    "torch.cuda.is_available()"
   ]
  },
  {
   "cell_type": "code",
   "execution_count": 180,
   "metadata": {},
   "outputs": [
    {
     "data": {
      "text/plain": [
       "True"
      ]
     },
     "execution_count": 180,
     "metadata": {},
     "output_type": "execute_result"
    }
   ],
   "source": [
    "torch.backends.mps.is_available()"
   ]
  },
  {
   "cell_type": "code",
   "execution_count": 181,
   "metadata": {},
   "outputs": [
    {
     "name": "stdout",
     "output_type": "stream",
     "text": [
      "running on mps\n"
     ]
    }
   ],
   "source": [
    "if torch.backends.mps.is_available():\n",
    "    mps_device = torch.device(\"mps\")\n",
    "    print('running on mps')\n",
    "else :\n",
    "    mps_device=torc.device('cpu')\n",
    "    print('running on cpu')\n",
    "\n",
    "#conda env config vars set PYTORCH_ENABLE_MPS_FALLBACK=1\n",
    "#conda activate <test-env>"
   ]
  },
  {
   "cell_type": "code",
   "execution_count": 182,
   "metadata": {},
   "outputs": [],
   "source": [
    "#device=torch.device('cuda:0')\n",
    "#Normalde böyle yaparız fakat m1 işlemcide cuda sorunlu "
   ]
  },
  {
   "cell_type": "code",
   "execution_count": 183,
   "metadata": {},
   "outputs": [
    {
     "data": {
      "text/plain": [
       "Net(\n",
       "  (conv1): Conv2d(1, 32, kernel_size=(5, 5), stride=(1, 1))\n",
       "  (conv2): Conv2d(32, 64, kernel_size=(5, 5), stride=(1, 1))\n",
       "  (conv3): Conv2d(64, 128, kernel_size=(5, 5), stride=(1, 1))\n",
       "  (fc1): Linear(in_features=512, out_features=512, bias=True)\n",
       "  (fc2): Linear(in_features=512, out_features=2, bias=True)\n",
       ")"
      ]
     },
     "execution_count": 183,
     "metadata": {},
     "output_type": "execute_result"
    }
   ],
   "source": [
    "net.to(mps_device)\n",
    "#olabildiğince az to() kullanmaya çalış "
   ]
  },
  {
   "cell_type": "code",
   "execution_count": 184,
   "metadata": {},
   "outputs": [],
   "source": [
    "net=Net().to(mps_device)"
   ]
  },
  {
   "cell_type": "code",
   "execution_count": 185,
   "metadata": {},
   "outputs": [],
   "source": [
    "#TRAIN "
   ]
  },
  {
   "cell_type": "code",
   "execution_count": 186,
   "metadata": {},
   "outputs": [],
   "source": [
    "def train(net):\n",
    "    optimizer=optim.Adam(net.parameters(),lr=0.001)\n",
    "    loss_function=nn.MSELoss()\n",
    "    \n",
    "    BATCH_SIZE=100\n",
    "    #memory error alırsan batch_size'i düşür !\n",
    "    EPOCHS=3\n",
    "\n",
    "    for epoch in range(EPOCHS): \n",
    "        for i in tqdm(range(0,len(train_X),BATCH_SIZE)): #DATALOADER'A GEÇ !!\n",
    "            #print(i,i+BATCH_SIZE)\n",
    "            #0->100 indeks : birinci batch\n",
    "            #100->200 indeks :ikinci batch\n",
    "            batch_X=train_X[i:i+BATCH_SIZE].view(-1,1,50,50)\n",
    "            batch_y=train_y[i:i+BATCH_SIZE]\n",
    "            batch_X,batch_y=batch_X.to(mps_device),batch_y.to(mps_device)\n",
    "            #to device yaparak , batchleri gpuya aktardık\n",
    "        \n",
    "            net.zero_grad() #eğer bir büyük modelde iki farklı nn var ise ve bunların optimizerları farklı ise optimizer.zero_grad() kullan\n",
    "            \n",
    "            outputs=net(batch_X)\n",
    "            loss=loss_function(outputs,batch_y)\n",
    "            loss.backward()\n",
    "            optimizer.step() #update eder \n",
    "            \n",
    "        print(f'epoch: {epoch} loss:{loss}')"
   ]
  },
  {
   "cell_type": "code",
   "execution_count": 187,
   "metadata": {},
   "outputs": [
    {
     "data": {
      "application/vnd.jupyter.widget-view+json": {
       "model_id": "8f4238edb3b94e17af860b03fbc376bb",
       "version_major": 2,
       "version_minor": 0
      },
      "text/plain": [
       "  0%|          | 0/225 [00:00<?, ?it/s]"
      ]
     },
     "metadata": {},
     "output_type": "display_data"
    },
    {
     "name": "stdout",
     "output_type": "stream",
     "text": [
      "epoch: 0 loss:0.20677581429481506\n"
     ]
    },
    {
     "data": {
      "application/vnd.jupyter.widget-view+json": {
       "model_id": "d811e7f3659647fabf55dc6a7943fe9b",
       "version_major": 2,
       "version_minor": 0
      },
      "text/plain": [
       "  0%|          | 0/225 [00:00<?, ?it/s]"
      ]
     },
     "metadata": {},
     "output_type": "display_data"
    },
    {
     "name": "stdout",
     "output_type": "stream",
     "text": [
      "epoch: 1 loss:0.1857486367225647\n"
     ]
    },
    {
     "data": {
      "application/vnd.jupyter.widget-view+json": {
       "model_id": "17186329adec40c2a845bb3148c7923c",
       "version_major": 2,
       "version_minor": 0
      },
      "text/plain": [
       "  0%|          | 0/225 [00:00<?, ?it/s]"
      ]
     },
     "metadata": {},
     "output_type": "display_data"
    },
    {
     "name": "stdout",
     "output_type": "stream",
     "text": [
      "epoch: 2 loss:0.15266400575637817\n"
     ]
    }
   ],
   "source": [
    "train(net)\n",
    "#dataseti gpu'ye yüklemek pek mantıklı değil\n",
    "#bu yüzden dataseti genelde cpu'da tut,batch_size'ı arttır, batchleri gpuya gönder "
   ]
  },
  {
   "cell_type": "code",
   "execution_count": 188,
   "metadata": {},
   "outputs": [],
   "source": [
    "def test(net):\n",
    "    correct,total=0,0\n",
    "    global preds,reals\n",
    "    preds, reals = [],[]\n",
    "    with torch.no_grad(): \n",
    "        #gradientleri gpudan almaz, zaten torch.backward() yapıyoruz \n",
    "        for i in tqdm(range(len(test_X))):\n",
    "            real_class=torch.argmax(test_y[i]).to(mps_device)\n",
    "            net_out=net(test_X[i].view(-1,1,50,50).to(mps_device)[0])\n",
    "            #real ve net_out'u da gpu objesi yaptık\n",
    "            pred_class=torch.argmax(net_out)\n",
    "            preds.append(pred_class.to('cpu').detach().numpy())\n",
    "            reals.append(real_class.to('cpu').detach().numpy())\n",
    "            if pred_class==real_class:\n",
    "                correct+=1\n",
    "            total+=1\n",
    "            \n",
    "    print(f'Accuracy :{round(correct/total,3)}')"
   ]
  },
  {
   "cell_type": "code",
   "execution_count": 189,
   "metadata": {},
   "outputs": [
    {
     "data": {
      "application/vnd.jupyter.widget-view+json": {
       "model_id": "5f61a1aab68742d1b3a760fa66c5f918",
       "version_major": 2,
       "version_minor": 0
      },
      "text/plain": [
       "  0%|          | 0/2494 [00:00<?, ?it/s]"
      ]
     },
     "metadata": {},
     "output_type": "display_data"
    },
    {
     "name": "stdout",
     "output_type": "stream",
     "text": [
      "Accuracy :0.741\n"
     ]
    }
   ],
   "source": [
    "test(net)"
   ]
  },
  {
   "cell_type": "code",
   "execution_count": 190,
   "metadata": {},
   "outputs": [],
   "source": [
    "from sklearn.metrics import confusion_matrix\n",
    "import seaborn as sns"
   ]
  },
  {
   "cell_type": "code",
   "execution_count": 191,
   "metadata": {},
   "outputs": [
    {
     "data": {
      "text/plain": [
       "<AxesSubplot:>"
      ]
     },
     "execution_count": 191,
     "metadata": {},
     "output_type": "execute_result"
    },
    {
     "data": {
      "image/png": "[encoded data removed]",
      "text/plain": [
       "<Figure size 720x576 with 2 Axes>"
      ]
     },
     "metadata": {
      "needs_background": "light"
     },
     "output_type": "display_data"
    }
   ],
   "source": [
    "plt.figure(figsize=(10,8))\n",
    "sns.heatmap(confusion_matrix(reals,preds),annot=True,xticklabels=['Cat','Dog'],yticklabels=['Cat','Dog'])\n"
   ]
  },
  {
   "cell_type": "markdown",
   "metadata": {},
   "source": [
    "**Part8: _Model Analysis_**"
   ]
  },
  {
   "cell_type": "code",
   "execution_count": 192,
   "metadata": {},
   "outputs": [],
   "source": [
    "def fwd_pass(X,y,train=False):\n",
    "    #forward-pass\n",
    "    if train:\n",
    "        net.zero_grad()\n",
    "        #gradientleri sıfırla \n",
    "        #bunun yapılmasının sebebi bir sonraki satırda zaten yine weightler yani gradler oluşcak\n",
    "        \n",
    "    outputs=net(X)\n",
    "    mathces=[torch.argmax(i)==torch.argmax(j) for i,j in zip(outputs,y)]\n",
    "    acc=mathces.count(True)/len(mathces)\n",
    "    loss_function=nn.MSELoss()\n",
    "    loss=loss_function(outputs,y)\n",
    "    \n",
    "    if train :\n",
    "        loss.backward()\n",
    "        #back-prapagation \n",
    "        optimizer.step()\n",
    "        \n",
    "    return acc,loss\n",
    "    \n",
    "      "
   ]
  },
  {
   "cell_type": "code",
   "execution_count": 193,
   "metadata": {},
   "outputs": [],
   "source": [
    "def test(size=32):\n",
    "    #size = batch_size\n",
    "    random_start=np.random.randint(len(test_X)-32)\n",
    "    #örnek : test-size 1000 olsun, 0-1000 arasında random bi sayı secicek\n",
    "    val_X,val_y=test_X[random_start:random_start+size],test_y[random_start:random_start+size]\n",
    "    #validasyon seti , test setinin bir parçası olmalı. Train olursa overfit edebilir \n",
    "    with torch.no_grad():\n",
    "        val_acc,val_loss=fwd_pass(val_X.view(-1,1,50,50).to(mps_device),val_y.to(mps_device))\n",
    "        #batch_train lerle eğitilmis neural networku , batch_testlerle  forward ederek (weight ve biasleri validasyon setiyle test ediyoruz zaten train=False flagından dolayı da zero_grad() olmuyor),\n",
    "        #validation accuracy ve validation lossu bulmus oluyoruz.\n",
    "    \n",
    "    return val_acc,val_loss\n"
   ]
  },
  {
   "cell_type": "code",
   "execution_count": 197,
   "metadata": {},
   "outputs": [
    {
     "name": "stdout",
     "output_type": "stream",
     "text": [
      "validation accuracy: 0.78125 validation loss:0.13558876514434814\n"
     ]
    }
   ],
   "source": [
    "val_acc,val_loss=test(size=32)\n",
    "print(f'validation accuracy: {val_acc} validation loss:{val_loss}')"
   ]
  },
  {
   "cell_type": "code",
   "execution_count": 198,
   "metadata": {},
   "outputs": [],
   "source": [
    "import time \n",
    "\n",
    "MODEL_NAME=f'model-{int(time.time())}'"
   ]
  },
  {
   "cell_type": "code",
   "execution_count": 199,
   "metadata": {},
   "outputs": [
    {
     "name": "stdout",
     "output_type": "stream",
     "text": [
      "model-1679036408\n"
     ]
    },
    {
     "data": {
      "application/vnd.jupyter.widget-view+json": {
       "model_id": "21eff7264f4c4c5db125520aa5436ca7",
       "version_major": 2,
       "version_minor": 0
      },
      "text/plain": [
       "  0%|          | 0/225 [00:00<?, ?it/s]"
      ]
     },
     "metadata": {},
     "output_type": "display_data"
    },
    {
     "data": {
      "application/vnd.jupyter.widget-view+json": {
       "model_id": "74c7a699c4864860b907acc16e216dfd",
       "version_major": 2,
       "version_minor": 0
      },
      "text/plain": [
       "  0%|          | 0/225 [00:00<?, ?it/s]"
      ]
     },
     "metadata": {},
     "output_type": "display_data"
    },
    {
     "data": {
      "application/vnd.jupyter.widget-view+json": {
       "model_id": "306be13c9e744f51a34d1e545781a98b",
       "version_major": 2,
       "version_minor": 0
      },
      "text/plain": [
       "  0%|          | 0/225 [00:00<?, ?it/s]"
      ]
     },
     "metadata": {},
     "output_type": "display_data"
    },
    {
     "data": {
      "application/vnd.jupyter.widget-view+json": {
       "model_id": "79037a2d2b4f4095bf36f06e61b29466",
       "version_major": 2,
       "version_minor": 0
      },
      "text/plain": [
       "  0%|          | 0/225 [00:00<?, ?it/s]"
      ]
     },
     "metadata": {},
     "output_type": "display_data"
    },
    {
     "data": {
      "application/vnd.jupyter.widget-view+json": {
       "model_id": "9f145016aab54b21961634b1f4dd50e6",
       "version_major": 2,
       "version_minor": 0
      },
      "text/plain": [
       "  0%|          | 0/225 [00:00<?, ?it/s]"
      ]
     },
     "metadata": {},
     "output_type": "display_data"
    }
   ],
   "source": [
    "print(MODEL_NAME)\n",
    "net=Net().to(mps_device)\n",
    "optimizer=optim.Adam(net.parameters(),lr=0.001)\n",
    "loss_function=nn.MSELoss()\n",
    "\n",
    "def train():\n",
    "    BATCH_SIZE=100\n",
    "    EPOCHS=5\n",
    "    with open('model.log','a') as f :\n",
    "        for epoch in range(EPOCHS):\n",
    "            for i in tqdm(range(0,len(train_X),BATCH_SIZE)): #DataLoader kullanılabilir. \n",
    "                batch_X=train_X[i:i+BATCH_SIZE].view(-1,1,50,50)\n",
    "                batch_y=train_y[i:i+BATCH_SIZE]\n",
    "                batch_X,batch_y=batch_X.to(mps_device),batch_y.to(mps_device)\n",
    "                \n",
    "                acc,loss=fwd_pass(batch_X,batch_y,train=True)\n",
    "                #fwd'de train flag'i yerine bu fonksiynonun içinde model.train() ve model.eval() kullanılabilir.\n",
    "                #train batchlerini forwardlayarak ve train=True diyerek weights ve biasleri buluyoruz.\n",
    "                if i%50==0:\n",
    "                    #50 adımda bir validation skorlarını hesaplar \n",
    "                    val_acc,val_loss=test(size=100) #batch_size=100 vererek bulunan W ve b'leri validasyon setine fit ediyoruz.\n",
    "                    f.write(f'{MODEL_NAME},{round(time.time(),3)},{round(float(acc),2)},{round(float(loss),4)},{round(float(val_acc),2)},{round(float(val_loss),4)}\\n')\n",
    "                \n",
    "                \n",
    "train()               "
   ]
  },
  {
   "cell_type": "code",
   "execution_count": null,
   "metadata": {},
   "outputs": [],
   "source": []
  }
 ],
 "metadata": {
  "accelerator": "GPU",
  "colab": {
   "authorship_tag": "ABX9TyN3eJhevZto/8285qUVqr2A",
   "mount_file_id": "1AkcLUOKWwg64p9T-KAMn8d8oHLYw4Uwr",
   "provenance": []
  },
  "gpuClass": "standard",
  "kernelspec": {
   "display_name": "Python 3 (ipykernel)",
   "language": "python",
   "name": "python3"
  },
  "language_info": {
   "codemirror_mode": {
    "name": "ipython",
    "version": 3
   },
   "file_extension": ".py",
   "mimetype": "text/x-python",
   "name": "python",
   "nbconvert_exporter": "python",
   "pygments_lexer": "ipython3",
   "version": "3.9.5"
  }
 },
 "nbformat": 4,
 "nbformat_minor": 4
}
